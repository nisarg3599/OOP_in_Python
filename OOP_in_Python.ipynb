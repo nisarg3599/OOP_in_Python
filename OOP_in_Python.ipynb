{
 "cells": [
  {
   "cell_type": "markdown",
   "id": "271e5de8",
   "metadata": {},
   "source": [
    "# <span style=\"color:blue\">i. Creating Classes and Objects</span>\n",
    "\n",
    "  ## <span style=\"color:darkred\">Defining a class</span>\n",
    "\n",
    "    • length and breadth as attributes\n",
    "\n",
    "    • init() constructor of class\n",
    "\n",
    "    • self parameter refers to the newly created instance of the class.\n",
    "\n",
    "    • attributes length and breadth are associated with self-keyword to identify them as instance variables"
   ]
  },
  {
   "cell_type": "code",
   "execution_count": 9,
   "id": "c3f559db",
   "metadata": {},
   "outputs": [],
   "source": [
    "class Rectangle:\n",
    "    def __init__(self):\n",
    "        self.length = 10\n",
    "        self.breadth = 5"
   ]
  },
  {
   "cell_type": "markdown",
   "id": "9d688d70",
   "metadata": {},
   "source": [
    "\n",
    "• create the object by calling name of the class followed by parenthesis.\n",
    "\n",
    "\n",
    "• print the values using dot operator."
   ]
  },
  {
   "cell_type": "code",
   "execution_count": 10,
   "id": "99040ce6",
   "metadata": {},
   "outputs": [
    {
     "name": "stdout",
     "output_type": "stream",
     "text": [
      "10 5\n"
     ]
    }
   ],
   "source": [
    "rect = Rectangle()\n",
    "print(rect.length, rect.breadth)"
   ]
  },
  {
   "cell_type": "markdown",
   "id": "2ebe02d3",
   "metadata": {},
   "source": [
    "## <span style=\"color:darkred\">Parametrised Constructor</span>\n",
    "\n",
    "• parametrised constructor - dynamically assign the attribute values during object creation"
   ]
  },
  {
   "cell_type": "code",
   "execution_count": 11,
   "id": "5405fb4e",
   "metadata": {},
   "outputs": [
    {
     "name": "stdout",
     "output_type": "stream",
     "text": [
      "12 8\n"
     ]
    }
   ],
   "source": [
    "class Rectangle:\n",
    "    def __init__(self, length, breadth):\n",
    "        self.length = length\n",
    "        self.breadth = breadth\n",
    "\n",
    "rect = Rectangle(12, 8)\n",
    "print(rect.length, rect.breadth)"
   ]
  },
  {
   "cell_type": "markdown",
   "id": "d210ce53",
   "metadata": {},
   "source": [
    "# <span style=\"color:blue\">ii. Classes Variable and Instance Variable</span>"
   ]
  },
  {
   "cell_type": "code",
   "execution_count": 31,
   "id": "d37acc99",
   "metadata": {},
   "outputs": [],
   "source": [
    "class Student:\n",
    "    teacher = 'Mrs. Jones'  # class variable\n",
    "    Room = '103A'           # class variable\n",
    "\n",
    "    def __init__(self, name, age, fav_sub):\n",
    "        self.name = name        # instance variable\n",
    "        self.age = age          # instance variable\n",
    "        self.fav_sub = fav_sub  # fav sub instance variable"
   ]
  },
  {
   "cell_type": "code",
   "execution_count": 32,
   "id": "b24f1ef1",
   "metadata": {},
   "outputs": [],
   "source": [
    "tom = Student('Tom', 15, 'Math')"
   ]
  },
  {
   "cell_type": "code",
   "execution_count": 33,
   "id": "d14b9334",
   "metadata": {},
   "outputs": [
    {
     "name": "stdout",
     "output_type": "stream",
     "text": [
      "Mrs. Jones Math\n"
     ]
    }
   ],
   "source": [
    "print(tom.teacher, tom.fav_sub)"
   ]
  },
  {
   "cell_type": "code",
   "execution_count": 34,
   "id": "644101b6",
   "metadata": {},
   "outputs": [],
   "source": [
    "Student.teacher = \"David\""
   ]
  },
  {
   "cell_type": "code",
   "execution_count": 35,
   "id": "2af42416",
   "metadata": {},
   "outputs": [
    {
     "name": "stdout",
     "output_type": "stream",
     "text": [
      "David\n"
     ]
    }
   ],
   "source": [
    "print(tom.teacher)"
   ]
  },
  {
   "cell_type": "markdown",
   "id": "06266e6d",
   "metadata": {},
   "source": [
    "# <span style=\"color:blue\">iii. Adding a meathod to class</span>\n",
    "    • calculate_area() - retutns the product of attributes length and breadth\n",
    "    • self-identifies its association with the instance"
   ]
  },
  {
   "cell_type": "code",
   "execution_count": 38,
   "id": "ce8fbb2e",
   "metadata": {},
   "outputs": [
    {
     "data": {
      "text/plain": [
       "96"
      ]
     },
     "execution_count": 38,
     "metadata": {},
     "output_type": "execute_result"
    }
   ],
   "source": [
    "class Rectangle:\n",
    "    def __init__(self, length, breadth):\n",
    "        self.length = length\n",
    "        self.breadth = breadth\n",
    "        \n",
    "    def calculate_area(self):\n",
    "        return self.length * self.breadth\n",
    "\n",
    "rect = Rectangle(12, 8)\n",
    "rect.calculate_area()"
   ]
  },
  {
   "cell_type": "markdown",
   "id": "0d3c3801",
   "metadata": {},
   "source": [
    "## <span style=\"color:blue\">Significance of self:</span>\n",
    "\n",
    "    • The attributes length and breadth are associated with an instance.\n",
    "    • Self makes sure that each instance refers to its own copy of attributes"
   ]
  },
  {
   "cell_type": "markdown",
   "id": "aaafb8e2",
   "metadata": {},
   "source": [
    "# <span style=\"color:blue\">iv. Class Method and Static Method</span>"
   ]
  },
  {
   "cell_type": "code",
   "execution_count": 66,
   "id": "dd66986e",
   "metadata": {},
   "outputs": [],
   "source": [
    "# I\n",
    "class Circle:\n",
    "    pi = 3.14\n",
    "    \n",
    "    def __init__(self, radius):\n",
    "        self.radius = radius\n",
    "    \n",
    "    # Instance ethod\n",
    "    def calculate_area(self):\n",
    "        return self.pi * (self.radius ** 2)"
   ]
  },
  {
   "cell_type": "code",
   "execution_count": 67,
   "id": "5f7dd885",
   "metadata": {},
   "outputs": [],
   "source": [
    "area = Circle(5)"
   ]
  },
  {
   "cell_type": "code",
   "execution_count": 68,
   "id": "d82d24f9",
   "metadata": {},
   "outputs": [
    {
     "data": {
      "text/plain": [
       "78.5"
      ]
     },
     "execution_count": 68,
     "metadata": {},
     "output_type": "execute_result"
    }
   ],
   "source": [
    "area.calculate_area()"
   ]
  },
  {
   "cell_type": "code",
   "execution_count": 75,
   "id": "a8d00dbf",
   "metadata": {},
   "outputs": [],
   "source": [
    "# II\n",
    "# I\n",
    "class Circle:\n",
    "    pi = 3.14\n",
    "    \n",
    "    def __init__(self, radius):\n",
    "        self.radius = radius\n",
    "    \n",
    "    # Instance ethod\n",
    "    def calculate_area(self):\n",
    "        return self.pi * (self.radius ** 2)\n",
    "    \n",
    "    # Class method - I can not access radius\n",
    "    @classmethod\n",
    "    def pi(cls):\n",
    "        pi = 3.14\n",
    "        return pi\n",
    "    \n",
    "    # Static method - I can not access pi and radius\n",
    "    @staticmethod\n",
    "    def circle_static_method():\n",
    "        print('This is circle\\'s static method')"
   ]
  },
  {
   "cell_type": "code",
   "execution_count": 72,
   "id": "a280e347",
   "metadata": {},
   "outputs": [
    {
     "data": {
      "text/plain": [
       "3.14"
      ]
     },
     "execution_count": 72,
     "metadata": {},
     "output_type": "execute_result"
    }
   ],
   "source": [
    "# @clssemthod should be mandatory\n",
    "# class method is bound to class object( like here is \"Circle\" ) and not to it's instance (self)\n",
    "# class instance take \"self\" as imput were class object take class parameter \"cls\"\n",
    "\n",
    "Circle.pi()"
   ]
  },
  {
   "cell_type": "code",
   "execution_count": 76,
   "id": "53e2b5b6",
   "metadata": {},
   "outputs": [
    {
     "name": "stdout",
     "output_type": "stream",
     "text": [
      "This is circle's static method\n"
     ]
    }
   ],
   "source": [
    "# @staticethod should be mandatory\n",
    "# can not access instance variable\n",
    "\n",
    "Circle.circle_static_method()"
   ]
  },
  {
   "cell_type": "markdown",
   "id": "dfa30740",
   "metadata": {},
   "source": [
    "# <span style=\"color:blue\">V. Inheritance and Overriding</span>"
   ]
  },
  {
   "cell_type": "code",
   "execution_count": 101,
   "id": "9089461d",
   "metadata": {},
   "outputs": [],
   "source": [
    "class shape:\n",
    "    \n",
    "    def set_color(self, color):\n",
    "        self.color = color\n",
    "        \n",
    "    def calculate_area(self):\n",
    "        pass\n",
    "    \n",
    "    def color_the_shape(self):\n",
    "        color_price = {'red': 10, 'blue': 5, 'ylw': 3}\n",
    "        return self.calculate_area() * color_price[self.color]"
   ]
  },
  {
   "cell_type": "code",
   "execution_count": 102,
   "id": "f58e6970",
   "metadata": {},
   "outputs": [],
   "source": [
    "# Inheritance : circle(shape)\n",
    "class circle(shape):\n",
    "    pi = 3.14\n",
    "    \n",
    "    def __init__(self, radius):\n",
    "        self.radius = radius    \n",
    "        \n",
    "    # Overriding\n",
    "    def calculate_area(self):\n",
    "        return self.pi * (self.radius ** 2)"
   ]
  },
  {
   "cell_type": "code",
   "execution_count": 103,
   "id": "2db23699",
   "metadata": {},
   "outputs": [],
   "source": [
    "c = circle(5)"
   ]
  },
  {
   "cell_type": "code",
   "execution_count": 104,
   "id": "0bdc3382",
   "metadata": {},
   "outputs": [
    {
     "data": {
      "text/plain": [
       "78.5"
      ]
     },
     "execution_count": 104,
     "metadata": {},
     "output_type": "execute_result"
    }
   ],
   "source": [
    "c.calculate_area()"
   ]
  },
  {
   "cell_type": "code",
   "execution_count": 105,
   "id": "803b091a",
   "metadata": {},
   "outputs": [],
   "source": [
    "c.set_color('red')"
   ]
  },
  {
   "cell_type": "code",
   "execution_count": 106,
   "id": "4a52020f",
   "metadata": {},
   "outputs": [
    {
     "data": {
      "text/plain": [
       "'red'"
      ]
     },
     "execution_count": 106,
     "metadata": {},
     "output_type": "execute_result"
    }
   ],
   "source": [
    "c.color"
   ]
  },
  {
   "cell_type": "code",
   "execution_count": 108,
   "id": "8fd3f09d",
   "metadata": {},
   "outputs": [
    {
     "data": {
      "text/plain": [
       "785.0"
      ]
     },
     "execution_count": 108,
     "metadata": {},
     "output_type": "execute_result"
    }
   ],
   "source": [
    "c.color_the_shape()"
   ]
  },
  {
   "cell_type": "code",
   "execution_count": 109,
   "id": "b93957bb",
   "metadata": {},
   "outputs": [],
   "source": [
    "# Inheritance : circle(shape)\n",
    "class rectangle(shape):\n",
    "        \n",
    "    def __init__(self, length, breadth):\n",
    "        self.length = length\n",
    "        self.breadth = breadth    \n",
    "        \n",
    "    # Overriding\n",
    "    def calculate_area(self):\n",
    "        return self.length * self.breadth\n",
    "    \n",
    "    # overriding python default function\n",
    "    def __str__(self):\n",
    "        return \"area of rectangle is: \" + str(self.calculate_area())"
   ]
  },
  {
   "cell_type": "code",
   "execution_count": 110,
   "id": "52430588",
   "metadata": {},
   "outputs": [],
   "source": [
    "r = rectangle(5,10)"
   ]
  },
  {
   "cell_type": "code",
   "execution_count": 111,
   "id": "b48cdc40",
   "metadata": {},
   "outputs": [],
   "source": [
    "r.set_color('blue')"
   ]
  },
  {
   "cell_type": "code",
   "execution_count": 112,
   "id": "84213c16",
   "metadata": {},
   "outputs": [
    {
     "data": {
      "text/plain": [
       "50"
      ]
     },
     "execution_count": 112,
     "metadata": {},
     "output_type": "execute_result"
    }
   ],
   "source": [
    "r.calculate_area()"
   ]
  },
  {
   "cell_type": "code",
   "execution_count": 115,
   "id": "02f66d5d",
   "metadata": {},
   "outputs": [
    {
     "name": "stdout",
     "output_type": "stream",
     "text": [
      "5 10 blue\n"
     ]
    }
   ],
   "source": [
    "print(r.length, r.breadth, r.color)"
   ]
  },
  {
   "cell_type": "code",
   "execution_count": 114,
   "id": "07b03a4d",
   "metadata": {},
   "outputs": [
    {
     "data": {
      "text/plain": [
       "250"
      ]
     },
     "execution_count": 114,
     "metadata": {},
     "output_type": "execute_result"
    }
   ],
   "source": [
    "r.color_the_shape()"
   ]
  },
  {
   "cell_type": "code",
   "execution_count": 116,
   "id": "f3efc7fc",
   "metadata": {},
   "outputs": [
    {
     "name": "stdout",
     "output_type": "stream",
     "text": [
      "area of rectangle is: 50\n"
     ]
    }
   ],
   "source": [
    "print(r)"
   ]
  },
  {
   "cell_type": "code",
   "execution_count": 117,
   "id": "3709bed8",
   "metadata": {},
   "outputs": [
    {
     "name": "stdout",
     "output_type": "stream",
     "text": [
      "1 2\n"
     ]
    }
   ],
   "source": [
    "# extra\n",
    "class A:\n",
    "    def __init__(self, x=1):\n",
    "        self.x = x\n",
    "class B(A):\n",
    "    def __init__(self,y =2):\n",
    "        super().__init__()\n",
    "        self.y = y\n",
    "\n",
    "def main():\n",
    "    b = B()\n",
    "    print(b.x,b.y)\n",
    "main()"
   ]
  },
  {
   "cell_type": "markdown",
   "id": "2254d0b4",
   "metadata": {},
   "source": [
    "### The super function plays an important role in accessing the properties of the base class or the parent class. In the example shown above, using the function super() in class B assigns the property x as an instance to B as well."
   ]
  },
  {
   "cell_type": "code",
   "execution_count": null,
   "id": "b7ca4918",
   "metadata": {},
   "outputs": [],
   "source": []
  },
  {
   "cell_type": "code",
   "execution_count": null,
   "id": "4430d034",
   "metadata": {},
   "outputs": [],
   "source": []
  },
  {
   "cell_type": "code",
   "execution_count": null,
   "id": "e7d84d88",
   "metadata": {},
   "outputs": [],
   "source": []
  },
  {
   "cell_type": "code",
   "execution_count": null,
   "id": "2b774305",
   "metadata": {},
   "outputs": [],
   "source": []
  },
  {
   "cell_type": "code",
   "execution_count": null,
   "id": "3174e8b2",
   "metadata": {},
   "outputs": [],
   "source": []
  }
 ],
 "metadata": {
  "kernelspec": {
   "display_name": "Python 3",
   "language": "python",
   "name": "python3"
  },
  "language_info": {
   "codemirror_mode": {
    "name": "ipython",
    "version": 3
   },
   "file_extension": ".py",
   "mimetype": "text/x-python",
   "name": "python",
   "nbconvert_exporter": "python",
   "pygments_lexer": "ipython3",
   "version": "3.8.8"
  }
 },
 "nbformat": 4,
 "nbformat_minor": 5
}
