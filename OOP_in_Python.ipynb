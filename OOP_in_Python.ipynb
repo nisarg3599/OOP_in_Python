{
 "cells": [
  {
   "cell_type": "markdown",
   "id": "e4c302c7",
   "metadata": {},
   "source": [
    "# <span style=\"color:blue\">i. Creating Classes and Objects</span>\n",
    "\n",
    "  ## <span style=\"color:darkred\">Defining a class</span>\n",
    "\n",
    "    • length and breadth as attributes\n",
    "\n",
    "    • init() constructor of class\n",
    "\n",
    "    • self parameter refers to the newly created instance of the class.\n",
    "\n",
    "    • attributes length and breadth are associated with self-keyword to identify them as instance variables"
   ]
  },
  {
   "cell_type": "code",
   "execution_count": 1,
   "id": "dca46cec",
   "metadata": {},
   "outputs": [],
   "source": [
    "class Rectangle:\n",
    "    def __init__(self):\n",
    "        self.length = 10\n",
    "        self.breadth = 5"
   ]
  },
  {
   "cell_type": "markdown",
   "id": "bb0ac3a6",
   "metadata": {},
   "source": [
    "\n",
    "• create the object by calling name of the class followed by parenthesis.\n",
    "\n",
    "\n",
    "• print the values using dot operator."
   ]
  },
  {
   "cell_type": "code",
   "execution_count": 2,
   "id": "32271760",
   "metadata": {},
   "outputs": [
    {
     "name": "stdout",
     "output_type": "stream",
     "text": [
      "10 5\n"
     ]
    }
   ],
   "source": [
    "rect = Rectangle()\n",
    "print(rect.length, rect.breadth)"
   ]
  },
  {
   "cell_type": "markdown",
   "id": "99c756e8",
   "metadata": {},
   "source": [
    "## <span style=\"color:darkred\">Parametrised Constructor</span>\n",
    "\n",
    "• parametrised constructor - dynamically assign the attribute values during object creation"
   ]
  },
  {
   "cell_type": "code",
   "execution_count": 3,
   "id": "6aadc208",
   "metadata": {},
   "outputs": [
    {
     "name": "stdout",
     "output_type": "stream",
     "text": [
      "12 8\n"
     ]
    }
   ],
   "source": [
    "class Rectangle:\n",
    "    def __init__(self, length, breadth):\n",
    "        self.length = length\n",
    "        self.breadth = breadth\n",
    "\n",
    "rect = Rectangle(12, 8)\n",
    "print(rect.length, rect.breadth)"
   ]
  },
  {
   "cell_type": "markdown",
   "id": "6a7363f5",
   "metadata": {},
   "source": [
    "# <span style=\"color:blue\">ii. Classes Variable and Instance Variable</span>"
   ]
  },
  {
   "cell_type": "code",
   "execution_count": 4,
   "id": "2858fe46",
   "metadata": {},
   "outputs": [],
   "source": [
    "class Student:\n",
    "    teacher = 'Mrs. Jones'  # class variable\n",
    "    Room = '103A'           # class variable\n",
    "\n",
    "    def __init__(self, name, age, fav_sub):\n",
    "        self.name = name        # instance variable\n",
    "        self.age = age          # instance variable\n",
    "        self.fav_sub = fav_sub  # fav sub instance variable"
   ]
  },
  {
   "cell_type": "code",
   "execution_count": 5,
   "id": "480be3c1",
   "metadata": {},
   "outputs": [],
   "source": [
    "tom = Student('Tom', 15, 'Math')"
   ]
  },
  {
   "cell_type": "code",
   "execution_count": 6,
   "id": "2ecc0ffd",
   "metadata": {},
   "outputs": [
    {
     "name": "stdout",
     "output_type": "stream",
     "text": [
      "Mrs. Jones Math\n"
     ]
    }
   ],
   "source": [
    "print(tom.teacher, tom.fav_sub)"
   ]
  },
  {
   "cell_type": "code",
   "execution_count": 7,
   "id": "eb85afcd",
   "metadata": {},
   "outputs": [],
   "source": [
    "Student.teacher = \"David\""
   ]
  },
  {
   "cell_type": "code",
   "execution_count": 8,
   "id": "9c02be04",
   "metadata": {},
   "outputs": [
    {
     "name": "stdout",
     "output_type": "stream",
     "text": [
      "David\n"
     ]
    }
   ],
   "source": [
    "print(tom.teacher)"
   ]
  },
  {
   "cell_type": "markdown",
   "id": "cca84402",
   "metadata": {},
   "source": [
    "# <span style=\"color:blue\">iii. Adding a meathod to class</span>\n",
    "    • calculate_area() - retutns the product of attributes length and breadth\n",
    "    • self-identifies its association with the instance"
   ]
  },
  {
   "cell_type": "code",
   "execution_count": 9,
   "id": "e7a1b17c",
   "metadata": {},
   "outputs": [
    {
     "data": {
      "text/plain": [
       "96"
      ]
     },
     "execution_count": 9,
     "metadata": {},
     "output_type": "execute_result"
    }
   ],
   "source": [
    "class Rectangle:\n",
    "    def __init__(self, length, breadth):\n",
    "        self.length = length\n",
    "        self.breadth = breadth\n",
    "        \n",
    "    def calculate_area(self):\n",
    "        return self.length * self.breadth\n",
    "\n",
    "rect = Rectangle(12, 8)\n",
    "rect.calculate_area()"
   ]
  },
  {
   "cell_type": "markdown",
   "id": "4ccff1d9",
   "metadata": {},
   "source": [
    "## <span style=\"color:blue\">Significance of self:</span>\n",
    "\n",
    "    • The attributes length and breadth are associated with an instance.\n",
    "    • Self makes sure that each instance refers to its own copy of attributes"
   ]
  },
  {
   "cell_type": "markdown",
   "id": "51f1d216",
   "metadata": {},
   "source": [
    "# <span style=\"color:blue\">iv. Class Method and Static Method</span>"
   ]
  },
  {
   "cell_type": "code",
   "execution_count": 10,
   "id": "4d17dc66",
   "metadata": {},
   "outputs": [],
   "source": [
    "# I\n",
    "class Circle:\n",
    "    pi = 3.14\n",
    "    \n",
    "    def __init__(self, radius):\n",
    "        self.radius = radius\n",
    "    \n",
    "    # Instance ethod\n",
    "    def calculate_area(self):\n",
    "        return self.pi * (self.radius ** 2)"
   ]
  },
  {
   "cell_type": "code",
   "execution_count": 11,
   "id": "be501cb7",
   "metadata": {},
   "outputs": [],
   "source": [
    "area = Circle(5)"
   ]
  },
  {
   "cell_type": "code",
   "execution_count": 12,
   "id": "e8bd6e30",
   "metadata": {},
   "outputs": [
    {
     "data": {
      "text/plain": [
       "78.5"
      ]
     },
     "execution_count": 12,
     "metadata": {},
     "output_type": "execute_result"
    }
   ],
   "source": [
    "area.calculate_area()"
   ]
  },
  {
   "cell_type": "code",
   "execution_count": 13,
   "id": "220d780e",
   "metadata": {},
   "outputs": [],
   "source": [
    "# II\n",
    "# I\n",
    "class Circle:\n",
    "    pi = 3.14\n",
    "    \n",
    "    def __init__(self, radius):\n",
    "        self.radius = radius\n",
    "    \n",
    "    # Instance ethod\n",
    "    def calculate_area(self):\n",
    "        return self.pi * (self.radius ** 2)\n",
    "    \n",
    "    # Class method - I can not access radius\n",
    "    @classmethod\n",
    "    def pi(cls):\n",
    "        pi = 3.14\n",
    "        return pi\n",
    "    \n",
    "    # Static method - I can not access pi and radius\n",
    "    @staticmethod\n",
    "    def circle_static_method():\n",
    "        print('This is circle\\'s static method')"
   ]
  },
  {
   "cell_type": "code",
   "execution_count": 14,
   "id": "fe3fd1bf",
   "metadata": {},
   "outputs": [
    {
     "data": {
      "text/plain": [
       "3.14"
      ]
     },
     "execution_count": 14,
     "metadata": {},
     "output_type": "execute_result"
    }
   ],
   "source": [
    "# @clssemthod should be mandatory\n",
    "# class method is bound to class object( like here is \"Circle\" ) and not to it's instance (self)\n",
    "# class instance take \"self\" as imput were class object take class parameter \"cls\"\n",
    "\n",
    "Circle.pi()"
   ]
  },
  {
   "cell_type": "code",
   "execution_count": 15,
   "id": "f3b77e1d",
   "metadata": {},
   "outputs": [
    {
     "name": "stdout",
     "output_type": "stream",
     "text": [
      "This is circle's static method\n"
     ]
    }
   ],
   "source": [
    "# @staticethod should be mandatory\n",
    "# can not access instance variable\n",
    "\n",
    "Circle.circle_static_method()"
   ]
  },
  {
   "cell_type": "markdown",
   "id": "db3ebb9c",
   "metadata": {},
   "source": [
    "# <span style=\"color:blue\">V. Inheritance and Overriding</span>"
   ]
  },
  {
   "cell_type": "code",
   "execution_count": 16,
   "id": "2fa656cd",
   "metadata": {},
   "outputs": [],
   "source": [
    "class shape:\n",
    "    \n",
    "    def set_color(self, color):\n",
    "        self.color = color\n",
    "        \n",
    "    def calculate_area(self):\n",
    "        pass\n",
    "    \n",
    "    def color_the_shape(self):\n",
    "        color_price = {'red': 10, 'blue': 5, 'ylw': 3}\n",
    "        return self.calculate_area() * color_price[self.color]"
   ]
  },
  {
   "cell_type": "code",
   "execution_count": 17,
   "id": "ce43ee60",
   "metadata": {},
   "outputs": [],
   "source": [
    "# Inheritance : circle(shape)\n",
    "class circle(shape):\n",
    "    pi = 3.14\n",
    "    \n",
    "    def __init__(self, radius):\n",
    "        self.radius = radius    \n",
    "        \n",
    "    # Overriding\n",
    "    def calculate_area(self):\n",
    "        return self.pi * (self.radius ** 2)"
   ]
  },
  {
   "cell_type": "code",
   "execution_count": 18,
   "id": "6f3e2a84",
   "metadata": {},
   "outputs": [],
   "source": [
    "c = circle(5)"
   ]
  },
  {
   "cell_type": "code",
   "execution_count": 19,
   "id": "502dd9ee",
   "metadata": {},
   "outputs": [
    {
     "data": {
      "text/plain": [
       "78.5"
      ]
     },
     "execution_count": 19,
     "metadata": {},
     "output_type": "execute_result"
    }
   ],
   "source": [
    "c.calculate_area()"
   ]
  },
  {
   "cell_type": "code",
   "execution_count": 20,
   "id": "4cd0c27f",
   "metadata": {},
   "outputs": [],
   "source": [
    "c.set_color('red')"
   ]
  },
  {
   "cell_type": "code",
   "execution_count": 21,
   "id": "5d09e2f9",
   "metadata": {},
   "outputs": [
    {
     "data": {
      "text/plain": [
       "'red'"
      ]
     },
     "execution_count": 21,
     "metadata": {},
     "output_type": "execute_result"
    }
   ],
   "source": [
    "c.color"
   ]
  },
  {
   "cell_type": "code",
   "execution_count": 22,
   "id": "4d805a27",
   "metadata": {},
   "outputs": [
    {
     "data": {
      "text/plain": [
       "785.0"
      ]
     },
     "execution_count": 22,
     "metadata": {},
     "output_type": "execute_result"
    }
   ],
   "source": [
    "c.color_the_shape()"
   ]
  },
  {
   "cell_type": "code",
   "execution_count": 23,
   "id": "3cc39083",
   "metadata": {},
   "outputs": [],
   "source": [
    "# Inheritance : circle(shape)\n",
    "class rectangle(shape):\n",
    "        \n",
    "    def __init__(self, length, breadth):\n",
    "        self.length = length\n",
    "        self.breadth = breadth    \n",
    "        \n",
    "    # Overriding\n",
    "    def calculate_area(self):\n",
    "        return self.length * self.breadth\n",
    "    \n",
    "    # overriding python default function\n",
    "    def __str__(self):\n",
    "        return \"area of rectangle is: \" + str(self.calculate_area())"
   ]
  },
  {
   "cell_type": "code",
   "execution_count": 24,
   "id": "dcc569b8",
   "metadata": {},
   "outputs": [],
   "source": [
    "r = rectangle(5,10)"
   ]
  },
  {
   "cell_type": "code",
   "execution_count": 25,
   "id": "3d6a0dd5",
   "metadata": {},
   "outputs": [],
   "source": [
    "r.set_color('blue')"
   ]
  },
  {
   "cell_type": "code",
   "execution_count": 26,
   "id": "306e84cf",
   "metadata": {},
   "outputs": [
    {
     "data": {
      "text/plain": [
       "50"
      ]
     },
     "execution_count": 26,
     "metadata": {},
     "output_type": "execute_result"
    }
   ],
   "source": [
    "r.calculate_area()"
   ]
  },
  {
   "cell_type": "code",
   "execution_count": 27,
   "id": "3f925d66",
   "metadata": {},
   "outputs": [
    {
     "name": "stdout",
     "output_type": "stream",
     "text": [
      "5 10 blue\n"
     ]
    }
   ],
   "source": [
    "print(r.length, r.breadth, r.color)"
   ]
  },
  {
   "cell_type": "code",
   "execution_count": 28,
   "id": "d8481bc2",
   "metadata": {},
   "outputs": [
    {
     "data": {
      "text/plain": [
       "250"
      ]
     },
     "execution_count": 28,
     "metadata": {},
     "output_type": "execute_result"
    }
   ],
   "source": [
    "r.color_the_shape()"
   ]
  },
  {
   "cell_type": "code",
   "execution_count": 29,
   "id": "56b00454",
   "metadata": {},
   "outputs": [
    {
     "name": "stdout",
     "output_type": "stream",
     "text": [
      "area of rectangle is: 50\n"
     ]
    }
   ],
   "source": [
    "print(r)"
   ]
  },
  {
   "cell_type": "code",
   "execution_count": 30,
   "id": "56cc48d9",
   "metadata": {},
   "outputs": [
    {
     "name": "stdout",
     "output_type": "stream",
     "text": [
      "1 2\n"
     ]
    }
   ],
   "source": [
    "# extra\n",
    "class A:\n",
    "    def __init__(self, x=1):\n",
    "        self.x = x\n",
    "class B(A):\n",
    "    def __init__(self,y =2):\n",
    "        super().__init__()\n",
    "        self.y = y\n",
    "\n",
    "def main():\n",
    "    b = B()\n",
    "    print(b.x,b.y)\n",
    "main()"
   ]
  },
  {
   "cell_type": "markdown",
   "id": "fa47d118",
   "metadata": {},
   "source": [
    "### The super function plays an important role in accessing the properties of the base class or the parent class. In the example shown above, using the function super() in class B assigns the property x as an instance to B as well."
   ]
  }
 ],
 "metadata": {
  "kernelspec": {
   "display_name": "Python 3",
   "language": "python",
   "name": "python3"
  },
  "language_info": {
   "codemirror_mode": {
    "name": "ipython",
    "version": 3
   },
   "file_extension": ".py",
   "mimetype": "text/x-python",
   "name": "python",
   "nbconvert_exporter": "python",
   "pygments_lexer": "ipython3",
   "version": "3.8.8"
  }
 },
 "nbformat": 4,
 "nbformat_minor": 5
}
