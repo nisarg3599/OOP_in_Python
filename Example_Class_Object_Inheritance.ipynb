{
 "cells": [
  {
   "cell_type": "markdown",
   "metadata": {
    "colab_type": "text",
    "id": "pCvEoEa_hucz"
   },
   "source": [
    "# Ice Cream Sundae - Ordering Menu"
   ]
  },
  {
   "cell_type": "markdown",
   "metadata": {
    "colab_type": "text",
    "id": "1i7toKBxhuc0"
   },
   "source": [
    "You are expected to build an interactive application to order ice cream Sundays in an ice-cream parlour.\n",
    "You are expected to use the concepts you learnt from the Object-Oriented programming session. The complete building process is divided into questions given below after you solve all the questions you will the complete ordering application.\n",
    "\n",
    "Let's get started!!\n"
   ]
  },
  {
   "cell_type": "markdown",
   "metadata": {
    "colab_type": "text",
    "id": "0C_tgAnKhuc1"
   },
   "source": [
    "### Question \n",
    "\n",
    "Declare a class \"ice_cream\". It needs to have the following constants and instance methods defined. \n",
    "\n",
    "1. Radius of a small scoop (r_small = 1.5)\n",
    "2. Radius of large scoop (r_large = 2.5)\n",
    "3. Value of pie (pi = 3.14)\n",
    "4. An instance method \"flavour\" - it should print enter your flavour.\n",
    "\n",
    "Given below is the example of a sample class and its methods and variables for reference:\n",
    "\n",
    "class chocolate:\n",
    "\n",
    "    chocolate_length=10\n",
    "    chocolate_breadth=2\n",
    "    \n",
    "    def area(self):\n",
    "        print(\"Enter your favourite chocolate\")"
   ]
  },
  {
   "cell_type": "code",
   "execution_count": 1,
   "metadata": {
    "colab": {},
    "colab_type": "code",
    "id": "GfLJzbqYhuc2"
   },
   "outputs": [],
   "source": [
    "# Declare class here:\n",
    "class ice_cream:\n",
    "    \n",
    "    # Declare class variables:\n",
    "    r_small = 10\n",
    "    r_large = 2.5\n",
    "    pi = 3.14\n",
    "    \n",
    "    # Declare instance methods:\n",
    "    def flavour(self):\n",
    "        print(\"Enter Your Flavour\")"
   ]
  },
  {
   "cell_type": "code",
   "execution_count": 6,
   "metadata": {
    "colab": {},
    "colab_type": "code",
    "id": "f0SQN8krhuc7"
   },
   "outputs": [],
   "source": [
    "# Call the class and function(s):\n",
    "order = ice_cream()"
   ]
  },
  {
   "cell_type": "code",
   "execution_count": 7,
   "metadata": {},
   "outputs": [
    {
     "name": "stdout",
     "output_type": "stream",
     "text": [
      "Enter Your Flavour\n"
     ]
    }
   ],
   "source": [
    "order.flavour()"
   ]
  },
  {
   "cell_type": "markdown",
   "metadata": {
    "colab_type": "text",
    "id": "0pbvDJyJhudA"
   },
   "source": [
    "### Question\n",
    "\n",
    "Modify the class \"ice_cream\" to add a method which can calculate the cost of the Ice cream based on its size. \n",
    "\n",
    "Cost of ice cream is 0.5$ per unit volume. Take the input from the user about what size of ice cream scoops they want small or large. Based on that calculate the volume of the scoop and use the volume and the cost per volume to calculate the cost of ice cream. \n",
    "\n",
    "Hint: Declare a class similar to example above. Add new function that calculates the cost depending on the scope size. Use If-else statement to calculate ice-cream cost."
   ]
  },
  {
   "cell_type": "code",
   "execution_count": 144,
   "metadata": {
    "colab": {},
    "colab_type": "code",
    "id": "9eQxfZURhudA"
   },
   "outputs": [],
   "source": [
    "# Declare class here:\n",
    "class ice_cream:\n",
    "    # Declare class variables:\n",
    "    r_small = 1.75\n",
    "    r_large = 2.5\n",
    "        \n",
    "    # Declare instance methods:\n",
    "    def calculate(self):\n",
    "        print(\"Enter your Flavor\")\n",
    "        scoop = input(\"Would you like a small scoop or a large scoop (enter s/l)\")\n",
    "        total = self.total_cost(scoop)\n",
    "#         print(\"Total is\",total)\n",
    "        \n",
    "    def total_cost(self,scoop):\n",
    "        if scoop == 's':\n",
    "            \n",
    "            vol = 4/3 * (self.r_small**3)\n",
    "            cost = vol * 0.5\n",
    "            print(f\"Your total cost is: ${cost}\")\n",
    "        \n",
    "        elif scoop == 'l':\n",
    "            \n",
    "            vol = 4/3 * (self.r_large**3)\n",
    "            cost = vol * 0.5\n",
    "            print(f\"Your total cost is: ${cost}\")\n",
    "        \n",
    "        else:\n",
    "            print(\"Enter valid scoop size\")"
   ]
  },
  {
   "cell_type": "code",
   "execution_count": 145,
   "metadata": {
    "colab": {},
    "colab_type": "code",
    "id": "mXEmGzKEhudF"
   },
   "outputs": [],
   "source": [
    "# Call the class and function(s):\n",
    "total = ice_cream()"
   ]
  },
  {
   "cell_type": "code",
   "execution_count": 147,
   "metadata": {
    "colab": {},
    "colab_type": "code",
    "id": "mXEmGzKEhudF"
   },
   "outputs": [
    {
     "name": "stdout",
     "output_type": "stream",
     "text": [
      "Enter your Flavor\n",
      "Would you like a small scoop or a large scoop (enter s/l)d\n",
      "Enter valid scoop size\n"
     ]
    }
   ],
   "source": [
    "total.calculate()"
   ]
  },
  {
   "cell_type": "code",
   "execution_count": 51,
   "metadata": {},
   "outputs": [
    {
     "name": "stdout",
     "output_type": "stream",
     "text": [
      "11\n",
      "11\n"
     ]
    }
   ],
   "source": [
    "import math\n",
    "\n",
    "print(math.ceil(10.51))\n",
    "print(round(10.51))"
   ]
  },
  {
   "cell_type": "markdown",
   "metadata": {
    "colab_type": "text",
    "id": "qUipR0SYhudL"
   },
   "source": [
    "### Question \n",
    "\n",
    "In the above function find a way to round up the cost to the next integer value. \n",
    "\n",
    "Hint: In the same class as above, add a additional element to the cost variable that rounds up the cost to the next nearest integer.\n",
    "For example: if the cost is 10.41, the output should be 11$\n",
    "##### For rounding up an integer value you could use either the ceil() or round()"
   ]
  },
  {
   "cell_type": "code",
   "execution_count": 64,
   "metadata": {
    "colab": {},
    "colab_type": "code",
    "id": "o4DhKcNPhudM"
   },
   "outputs": [],
   "source": [
    "import math\n",
    "# Declare class here:\n",
    "class ice_cream:\n",
    "    \n",
    "    # Declare class variables:\n",
    "    r_small = 1.75\n",
    "    r_large = 2.5\n",
    "        \n",
    "    # Declare instance methods:\n",
    "    def calculate(self):\n",
    "        print(\"Enter your Flavor\")\n",
    "        scoop = input(\"Would you like a small scoop or a large scoop (enter s/l)\")\n",
    "        \n",
    "        if scoop == 's':\n",
    "            \n",
    "            vol = 4/3 * (self.r_small**3)\n",
    "            cost = math.ceil(vol * 0.5)\n",
    "            \n",
    "            print(f\"Your total cost is: ${cost}\")\n",
    "            \n",
    "        elif scoop == 'l':\n",
    "            \n",
    "            vol = 4/3 * (self.r_large**3)\n",
    "            cost = math.ceil(vol * 0.5)\n",
    "            \n",
    "            print(f\"Your total cost is: ${cost}\")\n",
    "        \n",
    "        else:\n",
    "            print(\"Enter valid scoop size\")"
   ]
  },
  {
   "cell_type": "code",
   "execution_count": 65,
   "metadata": {
    "colab": {},
    "colab_type": "code",
    "id": "2wq3zXBvhudP"
   },
   "outputs": [],
   "source": [
    "# Call the class and function(s):\n",
    "new_total = ice_cream()"
   ]
  },
  {
   "cell_type": "code",
   "execution_count": 66,
   "metadata": {},
   "outputs": [
    {
     "name": "stdout",
     "output_type": "stream",
     "text": [
      "Enter your Flavor\n",
      "Would you like a small scoop or a large scoop (enter s/l)l\n",
      "Your total cost is: $11\n"
     ]
    }
   ],
   "source": [
    "new_total.calculate()"
   ]
  },
  {
   "cell_type": "markdown",
   "metadata": {
    "colab_type": "text",
    "id": "X-jaGJ0shudU"
   },
   "source": [
    "### Question \n",
    "\n",
    "Modify the flavour function to give the options of available flavours and take as input the choice of the customer. \n",
    "\n",
    "The available options are Vanilla, Chocolate, Butterscotch, Blue_berry.\n",
    "\n",
    "Hint: Add a new function that asks the user to input the choice of flavour."
   ]
  },
  {
   "cell_type": "code",
   "execution_count": 67,
   "metadata": {
    "colab": {},
    "colab_type": "code",
    "id": "Jo1-46mahudV"
   },
   "outputs": [],
   "source": [
    "import math\n",
    "# Declare class here:\n",
    "class ice_cream:\n",
    "    \n",
    "    # Declare class variables:\n",
    "    r_small = 1.75\n",
    "    r_large = 2.5\n",
    "        \n",
    "    # Declare instance methods:\n",
    "    def calculate(self):\n",
    "        print(\"The available options are Vanilla, Chocolate, Butterscotch, Blue_berry.\")\n",
    "        flavor = input(\"Enter your Flavor\")\n",
    "        scoop  = input(\"Would you like a small scoop or a large scoop (enter s/l)\")\n",
    "        \n",
    "        if scoop == 's':\n",
    "            \n",
    "            vol = 4/3 * (self.r_small**3)\n",
    "            cost = math.ceil(vol * 0.5)\n",
    "            \n",
    "            print(f\"Your total cost is: ${cost}\")\n",
    "            \n",
    "        elif scoop == 'l':\n",
    "            \n",
    "            vol = 4/3 * (self.r_large**3)\n",
    "            cost = math.ceil(vol * 0.5)\n",
    "            \n",
    "            print(f\"Your total cost is: ${cost}\")\n",
    "        \n",
    "        else:\n",
    "            print(\"Enter valid scoop size\")"
   ]
  },
  {
   "cell_type": "code",
   "execution_count": 68,
   "metadata": {
    "colab": {},
    "colab_type": "code",
    "id": "BbIcQx5UhudY"
   },
   "outputs": [],
   "source": [
    "# Call the class and function(s):\n",
    "new_flavor = ice_cream()"
   ]
  },
  {
   "cell_type": "code",
   "execution_count": 69,
   "metadata": {},
   "outputs": [
    {
     "name": "stdout",
     "output_type": "stream",
     "text": [
      "Enter your Flavor\n",
      "The available options are Vanilla, Chocolate, Butterscotch, Blue_berry.vanilla\n",
      "Would you like a small scoop or a large scoop (enter s/l)l\n",
      "Your total cost is: $11\n"
     ]
    }
   ],
   "source": [
    "new_flavor.calculate()"
   ]
  },
  {
   "cell_type": "markdown",
   "metadata": {
    "colab_type": "text",
    "id": "_36pklUZhudc"
   },
   "source": [
    "### Question \n",
    "\n",
    "Build a new class called \"toppings\". It should have all the functionality of the ice_cream class.\n",
    "\n",
    "The toppings class will also have a method which will take as input the choice of toppings that the customer wants.\n",
    "The available choices of toppings are: Hot_fudge, Sprinkles, Caramel, Oreos, Nuts\n",
    "\n",
    "Hint: Create a new class that ask the user to choose one or more toppings"
   ]
  },
  {
   "cell_type": "code",
   "execution_count": 84,
   "metadata": {
    "colab": {},
    "colab_type": "code",
    "id": "5RwkG2vWhudd"
   },
   "outputs": [],
   "source": [
    "# Declare class here:\n",
    "class toppings(ice_cream):\n",
    "    \n",
    "    # Declare instance methods:\n",
    "    def choice_toppings(self):\n",
    "        \n",
    "        toopings = ['Hot_fudge', 'Sprinkles', 'Caramel', 'Oreos', 'Nuts']\n",
    "        \n",
    "        print (\"Available toppings are Hot_fudge, Sprinkles, Caramel, Oreos, Nuts\")\n",
    "        top = int(input (\"Enter any number of toppings of your choice separated by a comma: \"))\n",
    "        choice = toopings[top - 1]\n",
    "        \n",
    "        print(f\"your toopings cjoice is:{choice}\")"
   ]
  },
  {
   "cell_type": "code",
   "execution_count": 85,
   "metadata": {
    "colab": {},
    "colab_type": "code",
    "id": "sbLm1xbnhudk"
   },
   "outputs": [],
   "source": [
    "# Call the class and function(s):\n",
    "top_choice = toppings()"
   ]
  },
  {
   "cell_type": "code",
   "execution_count": 86,
   "metadata": {},
   "outputs": [
    {
     "name": "stdout",
     "output_type": "stream",
     "text": [
      "Available toppings are Hot_fudge, Sprinkles, Caramel, Oreos, Nuts\n",
      "Enter any number of toppings of your choice separated by a comma: 2\n",
      "your toopings cjoice is:Sprinkles\n"
     ]
    }
   ],
   "source": [
    "top_choice.choice_toppings()"
   ]
  },
  {
   "cell_type": "markdown",
   "metadata": {
    "colab_type": "text",
    "id": "cKpJpxQMhudo"
   },
   "source": [
    "### Question \n",
    "\n",
    "Add a method to calculate the cost of selected, toppings given the cost of each of the topping is 2$. \n",
    "\n",
    "Hint: Now in the class for toppings, add a function to calculate the cost per topping added."
   ]
  },
  {
   "cell_type": "code",
   "execution_count": 160,
   "metadata": {
    "colab": {},
    "colab_type": "code",
    "id": "Z-pQhpqzhudp"
   },
   "outputs": [],
   "source": [
    "# Declare class here:\n",
    "class toppings(ice_cream):\n",
    "    \n",
    "    # Declare instance methods:\n",
    "    def choice_toppings(self):\n",
    "        \n",
    "        toopings = ['Hot_fudge', 'Sprinkles', 'Caramel', 'Oreos', 'Nuts']\n",
    "        \n",
    "        print (\"Available toppings are Hot_fudge, Sprinkles, Caramel, Oreos, Nuts\")\n",
    "        top = int(input (\"Enter any number of toppings of your choice separated by a comma: \"))\n",
    "        choice = toopings[top - 1]\n",
    "        t_cost = self.top_cost(choice)\n",
    "        \n",
    "        print(f\"your toopings choice is:{choice}\")\n",
    "        print(f\"your toopings choice cost is:{t_cost}\")\n",
    "        \n",
    "    def top_cost(self, choice):\n",
    "        cost = 2\n",
    "        return cost"
   ]
  },
  {
   "cell_type": "code",
   "execution_count": 161,
   "metadata": {
    "colab": {},
    "colab_type": "code",
    "id": "LXuemp0Lhuds"
   },
   "outputs": [],
   "source": [
    "# Call the class and function(s):\n",
    "toping_cost = toppings()"
   ]
  },
  {
   "cell_type": "code",
   "execution_count": 162,
   "metadata": {},
   "outputs": [
    {
     "name": "stdout",
     "output_type": "stream",
     "text": [
      "Available toppings are Hot_fudge, Sprinkles, Caramel, Oreos, Nuts\n",
      "Enter any number of toppings of your choice separated by a comma: 2\n",
      "your toopings choice is:Sprinkles\n",
      "your toopings choice cost is:2\n",
      "<class 'int'>\n"
     ]
    }
   ],
   "source": [
    "toping_cost.choice_toppings()"
   ]
  },
  {
   "cell_type": "markdown",
   "metadata": {
    "colab_type": "text",
    "id": "TTTDsNTthudv"
   },
   "source": [
    "### Question: \n",
    "Now you have all the functionality needed to create the ordering menu. \n",
    " \n",
    "1. An order can be for simply Ice Cream or an Ice Cream sundae. \n",
    "2. There can be multiple items in an order. \n",
    "3. Calculate the cost of each order placed.\n",
    "\n",
    "Hint: Club both the class you have created above and finally create an Ice-cream ordereing machine that display a welcome message: \"Welcome to  Ice Cream parlour\". Asks the user if he/she wants and ice cream or ice cream-sundae. Ask the choice of flavour and toppings and returns the total cost. Dont forget to ask if the user wants another item after he finishes ordering the first one!"
   ]
  },
  {
   "cell_type": "code",
   "execution_count": 176,
   "metadata": {
    "colab": {},
    "colab_type": "code",
    "id": "0R99hpmthudw"
   },
   "outputs": [
    {
     "name": "stdout",
     "output_type": "stream",
     "text": [
      "you want ice-cream(i) or sunday(s) (i / s)s\n",
      "Available toppings are Hot_fudge, Sprinkles, Caramel, Oreos, Nuts\n",
      "Enter any number of toppings of your choice separated by a comma: 2\n",
      "Enter your Flavor\n",
      "Would you like a small scoop or a large scoop (enter s/l)l\n",
      "Your total cost is: $11\n",
      "total cost is: $13\n",
      "Would like to order anything else\n",
      "Enter your response as (y/n)n\n"
     ]
    }
   ],
   "source": [
    "import math\n",
    "# Declare class here:\n",
    "class ice_cream:\n",
    "    r_small = 1.75\n",
    "    r_large = 2.5\n",
    "\n",
    "    def calculate(self):\n",
    "        print(\"Enter your Flavor\")\n",
    "        scoop = input(\"Would you like a small scoop or a large scoop (enter s/l)\")\n",
    "        total = self.total_cost(scoop)\n",
    "        return total  \n",
    "\n",
    "    def total_cost(self, scoop):\n",
    "        if scoop == 's':\n",
    "            vol = 4/3 * (self.r_small**3)\n",
    "            cost = math.ceil(vol * 0.5)\n",
    "            print(f\"Your total cost is: ${cost}\")\n",
    "            return cost  \n",
    "        \n",
    "        elif scoop == 'l':\n",
    "            vol = 4/3 * (self.r_large**3)\n",
    "            cost = math.ceil(vol * 0.5)\n",
    "            print(f\"Your total cost is: ${cost}\")\n",
    "            return cost  \n",
    "        \n",
    "        else:\n",
    "            print(\"Enter valid scoop size\")\n",
    "            return 0  # Return 0 for invalid input\n",
    "\n",
    "\n",
    "class toppings(ice_cream):\n",
    "    \n",
    "    # Declare instance methods:\n",
    "    def choice_toppings(self):\n",
    "        \n",
    "        toopings = ['Hot_fudge', 'Sprinkles', 'Caramel', 'Oreos', 'Nuts']\n",
    "        \n",
    "        print (\"Available toppings are Hot_fudge, Sprinkles, Caramel, Oreos, Nuts\")\n",
    "        top = int(input (\"Enter any number of toppings of your choice separated by a comma: \"))\n",
    "        choice = toopings[top - 1]\n",
    "        i_total = self.calculate()\n",
    "        t_cost = self.top_cost(choice)\n",
    "        total_final = t_cost + i_total\n",
    "        print(f\"total cost is: ${total_final}\")\n",
    "        \n",
    "    def top_cost(self, choice):\n",
    "        cost = 2\n",
    "        return cost\n",
    "    \n",
    "while True:\n",
    "    ans = input(\"you want ice-cream(i) or sunday(s) (i / s)\")\n",
    "    if ans == 's':\n",
    "        final_t = toppings()\n",
    "        final_t.choice_toppings()\n",
    "        \n",
    "    elif ans == 'i':\n",
    "        final_i = ice_cream()\n",
    "        final_i.calculate()\n",
    "    else:\n",
    "        print(\"Enter between 'y' or 'n'\")\n",
    "        \n",
    "    print (\"Would like to order anything else\")\n",
    "    more = input (\"Enter your response as (y/n)\")\n",
    "    \n",
    "    if more == \"n\":\n",
    "        break "
   ]
  },
  {
   "cell_type": "markdown",
   "metadata": {},
   "source": [
    "## here is better comented and with better variable name"
   ]
  },
  {
   "cell_type": "code",
   "execution_count": 175,
   "metadata": {},
   "outputs": [
    {
     "name": "stdout",
     "output_type": "stream",
     "text": [
      "Do you want ice cream (i) or sundae (s)? Enter 'i' for ice cream or 's' for sundae: s\n",
      "Available toppings are:\n",
      " 1.) Hot_fudge,\n",
      " 2.) Sprinkles,\n",
      " 3.)Caramel,\n",
      " 4.) Oreos,\n",
      " 5.) Nuts\n",
      "Enter the number of toppings of your choice: 2\n",
      "Adding toppings to your ice cream.\n",
      "Your total cost is: $11\n",
      "Your toppings choice is: Sprinkles\n",
      "Your toppings choice cost is: $2\n",
      "Your total cost is: $13\n",
      "Would you like to place another order? Enter 'y' for yes or 'n' for no: n\n"
     ]
    }
   ],
   "source": [
    "import math\n",
    "\n",
    "class IceCream:\n",
    "    SMALL_SCOOP = 1.75\n",
    "    LARGE_SCOOP = 2.5\n",
    "\n",
    "    def get_scoop_size(self):\n",
    "        print(\"Enter your flavor\")\n",
    "        scoop_size = input(\"Would you like a small scoop or a large scoop? Enter 's' for small or 'l' for large: \")\n",
    "        return scoop_size\n",
    "\n",
    "    def calculate_total_cost(self, scoop_size):\n",
    "        if scoop_size == 's':\n",
    "            volume = 4/3 * (self.SMALL_SCOOP**3)\n",
    "        elif scoop_size == 'l':\n",
    "            volume = 4/3 * (self.LARGE_SCOOP**3)\n",
    "        else:\n",
    "            print(\"Invalid scoop size. Please enter 's' for small or 'l' for large.\")\n",
    "            return 0  # Return 0 for invalid input\n",
    "\n",
    "        cost = math.ceil(volume * 0.5)\n",
    "        print(f\"Your total cost is: ${cost}\")\n",
    "        return cost\n",
    "\n",
    "class Toppings(IceCream):\n",
    "    TOPPING_COST = 2\n",
    "\n",
    "    def get_toppings_choice(self):\n",
    "        available_toppings = ['Hot_fudge', 'Sprinkles', 'Caramel', 'Oreos', 'Nuts']\n",
    "        print(\"Available toppings are:\\n 1.) Hot_fudge,\\n 2.) Sprinkles,\\n 3.) Caramel,\\n 4.) Oreos,\\n 5.) Nuts\")\n",
    "\n",
    "        topping_number = int(input(\"Enter the number of toppings of your choice: \"))\n",
    "        chosen_topping = available_toppings[topping_number - 1]\n",
    "        return chosen_topping\n",
    "\n",
    "    def calculate_topping_cost(self):\n",
    "        print(\"Adding toppings to your ice cream.\")\n",
    "        return self.TOPPING_COST\n",
    "\n",
    "# Main loop for taking ice cream or sundae orders\n",
    "while True:\n",
    "    order_type = input(\"Do you want ice cream (i) or sundae (s)? Enter 'i' for ice cream or 's' for sundae: \")\n",
    "\n",
    "    if order_type == 's':\n",
    "        sundae_order = Toppings()\n",
    "        toppings_choice = sundae_order.get_toppings_choice()\n",
    "        total_toppings_cost = sundae_order.calculate_topping_cost()\n",
    "        total_cost = sundae_order.calculate_total_cost('l') + total_toppings_cost\n",
    "        print(f\"Your toppings choice is: {toppings_choice}\")\n",
    "        print(f\"Your toppings choice cost is: ${total_toppings_cost}\")\n",
    "    elif order_type == 'i':\n",
    "        ice_cream_order = IceCream()\n",
    "        scoop_size = ice_cream_order.get_scoop_size()\n",
    "        total_cost = ice_cream_order.calculate_total_cost(scoop_size)\n",
    "    else:\n",
    "        print(\"Invalid input. Please enter 'i' for ice cream or 's' for sundae.\")\n",
    "\n",
    "    print(f\"Your total cost is: ${total_cost}\")\n",
    "\n",
    "    more_orders = input(\"Would you like to place another order? Enter 'y' for yes or 'n' for no: \")\n",
    "\n",
    "    if more_orders.lower() != 'y':\n",
    "        break\n"
   ]
  },
  {
   "cell_type": "markdown",
   "metadata": {
    "colab_type": "text",
    "id": "xm-KVss1h00g"
   },
   "source": [
    "Great job! You have learned the skills to create a real-world application, in case of any doubts please feel free to ask.\n",
    "####Happy Learning!!"
   ]
  }
 ],
 "metadata": {
  "colab": {
   "name": "Session 4 Practice Exercise1.ipynb",
   "provenance": []
  },
  "kernelspec": {
   "display_name": "Python 3",
   "language": "python",
   "name": "python3"
  },
  "language_info": {
   "codemirror_mode": {
    "name": "ipython",
    "version": 3
   },
   "file_extension": ".py",
   "mimetype": "text/x-python",
   "name": "python",
   "nbconvert_exporter": "python",
   "pygments_lexer": "ipython3",
   "version": "3.8.8"
  }
 },
 "nbformat": 4,
 "nbformat_minor": 1
}
